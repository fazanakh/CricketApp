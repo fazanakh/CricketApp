{
 "cells": [
  {
   "cell_type": "markdown",
   "metadata": {},
   "source": [
    "# Libraries"
   ]
  },
  {
   "cell_type": "code",
   "execution_count": 1,
   "metadata": {},
   "outputs": [],
   "source": [
    "import pandas as pd\n",
    "from datetime import datetime"
   ]
  },
  {
   "cell_type": "code",
   "execution_count": 2,
   "metadata": {},
   "outputs": [],
   "source": [
    "class CricketAppBackend:\n",
    "    def __init__(self):\n",
    "        # Initialize all DataFrames based on the spreadsheet structure\n",
    "        self.dismissals = pd.DataFrame(columns=['dismissal_type'])\n",
    "        self.teams = pd.DataFrame(columns=['team_id', 'team_name', 'player_name'])\n",
    "        self.runs = pd.DataFrame(columns=['ball_id', 'match_id', 'over', 'ball_number', 'runs'])\n",
    "        self.matches = pd.DataFrame(columns=['match_id', 'match_type_id', 'ground_id', 'home_team_id', 'away_team_id', 'official_id', 'date', 'status'])\n",
    "        self.scores = pd.DataFrame(columns(['score_id', 'match_id', 'team_id', 'runs', 'wickets', 'overs_faced']))\n",
    "        self.stats = pd.DataFrame(columns=['match_id', 'team_id', 'stat_type', 'value'])\n",
    "        self.dls_calculation = pd.DataFrame(columns=['match_id', 'par_score', 'target_score', 'overs_remaining', 'resources_available'])\n",
    "        self.transferred_matches = pd.DataFrame(columns=['match_id', 'transferred_from', 'transferred_to'])\n",
    "\n",
    "    def add_dismissal_type(self, dismissal_type):\n",
    "        new_dismissal = pd.DataFrame({'dismissal_type': [dismissal_type]})\n",
    "        self.dismissals = pd.concat([self.dismissals, new_dismissal], ignore_index=True)\n",
    "\n",
    "    def add_team(self, team_id, team_name, players):\n",
    "        for player in players:\n",
    "            new_team = pd.DataFrame({\n",
    "                'team_id': [team_id],\n",
    "                'team_name': [team_name],\n",
    "                'player_name': [player]\n",
    "            })\n",
    "            self.teams = pd.concat([self.teams, new_team], ignore_index=True)\n",
    "\n",
    "    def log_run(self, ball_id, match_id, over, ball_number, runs):\n",
    "        new_run = pd.DataFrame({\n",
    "            'ball_id': [ball_id],\n",
    "            'match_id': [match_id],\n",
    "            'over': [over],\n",
    "            'ball_number': [ball_number],\n",
    "            'runs': [runs]\n",
    "        })\n",
    "        self.runs = pd.concat([self.runs, new_run], ignore_index=True)\n",
    "\n",
    "    def create_match(self, match_id, match_type_id, ground_id, home_team_id, away_team_id, official_id, status='Scheduled'):\n",
    "        new_match = pd.DataFrame({\n",
    "            'match_id': [match_id],\n",
    "            'match_type_id': [match_type_id],\n",
    "            'ground_id': [ground_id],\n",
    "            'home_team_id': [home_team_id],\n",
    "            'away_team_id': [away_team_id],\n",
    "            'official_id': [official_id],\n",
    "            'date': [datetime.now().strftime('%Y-%m-%d')],\n",
    "            'status': [status]\n",
    "        })\n",
    "        self.matches = pd.concat([self.matches, new_match], ignore_index=True)\n",
    "\n",
    "    def update_score(self, score_id, match_id, team_id, runs, wickets, overs_faced):\n",
    "        new_score = pd.DataFrame({\n",
    "            'score_id': [score_id],\n",
    "            'match_id': [match_id],\n",
    "            'team_id': [team_id],\n",
    "            'runs': [runs],\n",
    "            'wickets': [wickets],\n",
    "            'overs_faced': [overs_faced]\n",
    "        })\n",
    "        self.scores = pd.concat([self.scores, new_score], ignore_index=True)\n",
    "\n",
    "    def calculate_dls(self, match_id, par_score, target_score, overs_remaining, resources_available):\n",
    "        dls_data = pd.DataFrame({\n",
    "            'match_id': [match_id],\n",
    "            'par_score': [par_score],\n",
    "            'target_score': [target_score],\n",
    "            'overs_remaining': [overs_remaining],\n",
    "            'resources_available': [resources_available]\n",
    "        })\n",
    "        self.dls_calculation = pd.concat([self.dls_calculation, dls_data], ignore_index=True)\n",
    "\n",
    "    def transfer_match(self, match_id, transferred_from, transferred_to):\n",
    "        transfer_data = pd.DataFrame({\n",
    "            'match_id': [match_id],\n",
    "            'transferred_from': [transferred_from],\n",
    "            'transferred_to': [transferred_to]\n",
    "        })\n",
    "        self.transferred_matches = pd.concat([self.transferred_matches, transfer_data], ignore_index=True)\n",
    "\n",
    "    def get_match_info(self, match_id):\n",
    "        return self.matches[self.matches['match_id'] == match_id]\n",
    "\n",
    "    def get_all_matches(self):\n",
    "        return self.matches\n",
    "\n",
    "    def get_score(self, match_id):\n",
    "        return self.scores[self.scores['match_id'] == match_id]\n",
    "\n",
    "    def get_all_scores(self):\n",
    "        return self.scores\n",
    "\n",
    "    def get_team_players(self, team_id):\n",
    "        return self.teams[self.teams['team_id'] == team_id]\n",
    "\n",
    "    def get_dismissal_types(self):\n",
    "        return self.dismissals"
   ]
  },
  {
   "cell_type": "code",
   "execution_count": 3,
   "metadata": {},
   "outputs": [],
   "source": [
    "# Example of using the backend system\n",
    "backend = CricketAppBackend()"
   ]
  },
  {
   "cell_type": "code",
   "execution_count": null,
   "metadata": {},
   "outputs": [],
   "source": [
    "# Adding dismissal types\n",
    "dismissal_types = {dismissal_df['bowled'].tolist()}\n",
    "for dismissal in dismissal_types:\n",
    "    backend.add_dismissal_type(dismissal)"
   ]
  },
  {
   "cell_type": "code",
   "execution_count": null,
   "metadata": {},
   "outputs": [],
   "source": [
    "# Adding teams\n",
    "team_1_players = team_df.iloc[:, 0].dropna().tolist()\n",
    "backend.add_team(1, 'Team 1', team_1_players)"
   ]
  },
  {
   "cell_type": "code",
   "execution_count": null,
   "metadata": {},
   "outputs": [],
   "source": [
    "team_2_players = team_df.iloc[:, 2].dropna().tolist()\n",
    "backend.add_team(2, 'Team 2', team_2_players)"
   ]
  },
  {
   "cell_type": "code",
   "execution_count": null,
   "metadata": {},
   "outputs": [],
   "source": [
    "# Logging a run\n",
    "backend.log_run(1, 1, 1, 1, 4)"
   ]
  },
  {
   "cell_type": "code",
   "execution_count": 5,
   "metadata": {},
   "outputs": [],
   "source": [
    "# Creating a match\n",
    "backend.create_match(1, 1, 1, 1, 2, 1)"
   ]
  },
  {
   "cell_type": "code",
   "execution_count": 6,
   "metadata": {},
   "outputs": [
    {
     "data": {
      "text/html": [
       "<div>\n",
       "<style scoped>\n",
       "    .dataframe tbody tr th:only-of-type {\n",
       "        vertical-align: middle;\n",
       "    }\n",
       "\n",
       "    .dataframe tbody tr th {\n",
       "        vertical-align: top;\n",
       "    }\n",
       "\n",
       "    .dataframe thead th {\n",
       "        text-align: right;\n",
       "    }\n",
       "</style>\n",
       "<table border=\"1\" class=\"dataframe\">\n",
       "  <thead>\n",
       "    <tr style=\"text-align: right;\">\n",
       "      <th></th>\n",
       "      <th>ground_id</th>\n",
       "      <th>ground_name</th>\n",
       "    </tr>\n",
       "  </thead>\n",
       "  <tbody>\n",
       "    <tr>\n",
       "      <th>0</th>\n",
       "      <td>1</td>\n",
       "      <td>Ground A</td>\n",
       "    </tr>\n",
       "    <tr>\n",
       "      <th>1</th>\n",
       "      <td>2</td>\n",
       "      <td>Ground B</td>\n",
       "    </tr>\n",
       "    <tr>\n",
       "      <th>2</th>\n",
       "      <td>3</td>\n",
       "      <td>Ground C</td>\n",
       "    </tr>\n",
       "  </tbody>\n",
       "</table>\n",
       "</div>"
      ],
      "text/plain": [
       "   ground_id ground_name\n",
       "0          1    Ground A\n",
       "1          2    Ground B\n",
       "2          3    Ground C"
      ]
     },
     "execution_count": 6,
     "metadata": {},
     "output_type": "execute_result"
    }
   ],
   "source": [
    "# Updating score\n",
    "backend.update_score(1, 1, 1, 250, 10, 50)"
   ]
  },
  {
   "cell_type": "code",
   "execution_count": 7,
   "metadata": {},
   "outputs": [],
   "source": [
    "# Calculating DLS\n",
    "backend.calculate_dls(1, 200, 220, 10, 75.0)"
   ]
  },
  {
   "cell_type": "code",
   "execution_count": 8,
   "metadata": {},
   "outputs": [
    {
     "data": {
      "text/html": [
       "<div>\n",
       "<style scoped>\n",
       "    .dataframe tbody tr th:only-of-type {\n",
       "        vertical-align: middle;\n",
       "    }\n",
       "\n",
       "    .dataframe tbody tr th {\n",
       "        vertical-align: top;\n",
       "    }\n",
       "\n",
       "    .dataframe thead th {\n",
       "        text-align: right;\n",
       "    }\n",
       "</style>\n",
       "<table border=\"1\" class=\"dataframe\">\n",
       "  <thead>\n",
       "    <tr style=\"text-align: right;\">\n",
       "      <th></th>\n",
       "      <th>team_id</th>\n",
       "      <th>team_name</th>\n",
       "    </tr>\n",
       "  </thead>\n",
       "  <tbody>\n",
       "    <tr>\n",
       "      <th>0</th>\n",
       "      <td>1</td>\n",
       "      <td>Team A</td>\n",
       "    </tr>\n",
       "    <tr>\n",
       "      <th>1</th>\n",
       "      <td>2</td>\n",
       "      <td>Team B</td>\n",
       "    </tr>\n",
       "    <tr>\n",
       "      <th>2</th>\n",
       "      <td>3</td>\n",
       "      <td>Team C</td>\n",
       "    </tr>\n",
       "  </tbody>\n",
       "</table>\n",
       "</div>"
      ],
      "text/plain": [
       "   team_id team_name\n",
       "0        1    Team A\n",
       "1        2    Team B\n",
       "2        3    Team C"
      ]
     },
     "execution_count": 8,
     "metadata": {},
     "output_type": "execute_result"
    }
   ],
   "source": [
    "# Transferring match\n",
    "backend.transfer_match(1, 'Device A', 'Device B')"
   ]
  },
  {
   "cell_type": "code",
   "execution_count": 9,
   "metadata": {},
   "outputs": [],
   "source": [
    "# Retrieving match info\n",
    "backend.get_match_info(1)"
   ]
  },
  {
   "cell_type": "code",
   "execution_count": 10,
   "metadata": {},
   "outputs": [
    {
     "data": {
      "text/html": [
       "<div>\n",
       "<style scoped>\n",
       "    .dataframe tbody tr th:only-of-type {\n",
       "        vertical-align: middle;\n",
       "    }\n",
       "\n",
       "    .dataframe tbody tr th {\n",
       "        vertical-align: top;\n",
       "    }\n",
       "\n",
       "    .dataframe thead th {\n",
       "        text-align: right;\n",
       "    }\n",
       "</style>\n",
       "<table border=\"1\" class=\"dataframe\">\n",
       "  <thead>\n",
       "    <tr style=\"text-align: right;\">\n",
       "      <th></th>\n",
       "      <th>official_id</th>\n",
       "      <th>official_name</th>\n",
       "    </tr>\n",
       "  </thead>\n",
       "  <tbody>\n",
       "    <tr>\n",
       "      <th>0</th>\n",
       "      <td>1</td>\n",
       "      <td>Official A</td>\n",
       "    </tr>\n",
       "    <tr>\n",
       "      <th>1</th>\n",
       "      <td>2</td>\n",
       "      <td>Official B</td>\n",
       "    </tr>\n",
       "  </tbody>\n",
       "</table>\n",
       "</div>"
      ],
      "text/plain": [
       "   official_id official_name\n",
       "0            1    Official A\n",
       "1            2    Official B"
      ]
     },
     "execution_count": 10,
     "metadata": {},
     "output_type": "execute_result"
    }
   ],
   "source": [
    "# Retrieving all matches\n",
    "backend.get_all_matches()"
   ]
  },
  {
   "cell_type": "code",
   "execution_count": 11,
   "metadata": {},
   "outputs": [],
   "source": [
    "# Retrieving all scores\n",
    "backend.get_all_scores()"
   ]
  },
  {
   "cell_type": "code",
   "execution_count": 12,
   "metadata": {},
   "outputs": [
    {
     "data": {
      "text/html": [
       "<div>\n",
       "<style scoped>\n",
       "    .dataframe tbody tr th:only-of-type {\n",
       "        vertical-align: middle;\n",
       "    }\n",
       "\n",
       "    .dataframe tbody tr th {\n",
       "        vertical-align: top;\n",
       "    }\n",
       "\n",
       "    .dataframe thead th {\n",
       "        text-align: right;\n",
       "    }\n",
       "</style>\n",
       "<table border=\"1\" class=\"dataframe\">\n",
       "  <thead>\n",
       "    <tr style=\"text-align: right;\">\n",
       "      <th></th>\n",
       "      <th>match_id</th>\n",
       "      <th>match_type_id</th>\n",
       "      <th>ground_id</th>\n",
       "      <th>home_team_id</th>\n",
       "      <th>away_team_id</th>\n",
       "      <th>official_id</th>\n",
       "      <th>date</th>\n",
       "      <th>status</th>\n",
       "    </tr>\n",
       "  </thead>\n",
       "  <tbody>\n",
       "    <tr>\n",
       "      <th>0</th>\n",
       "      <td>1</td>\n",
       "      <td>1</td>\n",
       "      <td>1</td>\n",
       "      <td>1</td>\n",
       "      <td>2</td>\n",
       "      <td>1</td>\n",
       "      <td>2024-08-22</td>\n",
       "      <td>Finished</td>\n",
       "    </tr>\n",
       "    <tr>\n",
       "      <th>1</th>\n",
       "      <td>2</td>\n",
       "      <td>2</td>\n",
       "      <td>2</td>\n",
       "      <td>2</td>\n",
       "      <td>3</td>\n",
       "      <td>2</td>\n",
       "      <td>2024-08-23</td>\n",
       "      <td>Active</td>\n",
       "    </tr>\n",
       "  </tbody>\n",
       "</table>\n",
       "</div>"
      ],
      "text/plain": [
       "   match_id  match_type_id  ground_id  home_team_id  away_team_id  \\\n",
       "0         1              1          1             1             2   \n",
       "1         2              2          2             2             3   \n",
       "\n",
       "   official_id        date    status  \n",
       "0            1  2024-08-22  Finished  \n",
       "1            2  2024-08-23    Active  "
      ]
     },
     "execution_count": 12,
     "metadata": {},
     "output_type": "execute_result"
    }
   ],
   "source": [
    "# Transferring match\n",
    "backend.transfer_match(1, 'Device A', 'Device B')"
   ]
  },
  {
   "cell_type": "code",
   "execution_count": 13,
   "metadata": {},
   "outputs": [],
   "source": [
    "# Retrieving match info\n",
    "print(backend.get_match_info(1))"
   ]
  },
  {
   "cell_type": "code",
   "execution_count": 14,
   "metadata": {},
   "outputs": [
    {
     "data": {
      "text/html": [
       "<div>\n",
       "<style scoped>\n",
       "    .dataframe tbody tr th:only-of-type {\n",
       "        vertical-align: middle;\n",
       "    }\n",
       "\n",
       "    .dataframe tbody tr th {\n",
       "        vertical-align: top;\n",
       "    }\n",
       "\n",
       "    .dataframe thead th {\n",
       "        text-align: right;\n",
       "    }\n",
       "</style>\n",
       "<table border=\"1\" class=\"dataframe\">\n",
       "  <thead>\n",
       "    <tr style=\"text-align: right;\">\n",
       "      <th></th>\n",
       "      <th>score_id</th>\n",
       "      <th>match_id</th>\n",
       "      <th>team_id</th>\n",
       "      <th>runs</th>\n",
       "      <th>wickets</th>\n",
       "      <th>overs_faced</th>\n",
       "    </tr>\n",
       "  </thead>\n",
       "  <tbody>\n",
       "    <tr>\n",
       "      <th>0</th>\n",
       "      <td>1</td>\n",
       "      <td>1</td>\n",
       "      <td>1</td>\n",
       "      <td>250</td>\n",
       "      <td>10</td>\n",
       "      <td>50</td>\n",
       "    </tr>\n",
       "    <tr>\n",
       "      <th>1</th>\n",
       "      <td>2</td>\n",
       "      <td>2</td>\n",
       "      <td>2</td>\n",
       "      <td>180</td>\n",
       "      <td>8</td>\n",
       "      <td>20</td>\n",
       "    </tr>\n",
       "  </tbody>\n",
       "</table>\n",
       "</div>"
      ],
      "text/plain": [
       "   score_id  match_id  team_id  runs  wickets  overs_faced\n",
       "0         1         1        1   250       10           50\n",
       "1         2         2        2   180        8           20"
      ]
     },
     "execution_count": 14,
     "metadata": {},
     "output_type": "execute_result"
    }
   ],
   "source": [
    "# Retrieving all matches\n",
    "print(backend.get_all_matches())"
   ]
  },
  {
   "cell_type": "code",
   "execution_count": 15,
   "metadata": {},
   "outputs": [],
   "source": [
    "# Retrieving all scores\n",
    "print(backend.get_all_scores())"
   ]
  }
 ],
 "metadata": {
  "kernelspec": {
   "display_name": "Python 3",
   "language": "python",
   "name": "python3"
  },
  "language_info": {
   "codemirror_mode": {
    "name": "ipython",
    "version": 3
   },
   "file_extension": ".py",
   "mimetype": "text/x-python",
   "name": "python",
   "nbconvert_exporter": "python",
   "pygments_lexer": "ipython3",
   "version": "3.11.6"
  }
 },
 "nbformat": 4,
 "nbformat_minor": 2
}
